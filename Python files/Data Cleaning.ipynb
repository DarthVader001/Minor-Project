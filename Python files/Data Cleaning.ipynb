{
 "cells": [
  {
   "cell_type": "code",
   "execution_count": 2,
   "id": "a7b1bb9c-c5f3-4dc5-b740-e2f849af1099",
   "metadata": {},
   "outputs": [],
   "source": [
    "import pandas as pd\n",
    "import numpy as np\n",
    "import matplotlib.pyplot as plt\n",
    "\n",
    "df = pd.read_csv(\"Uber_Customer_Support_Tickets_Anomalous.csv\")\n"
   ]
  },
  {
   "cell_type": "code",
   "execution_count": 3,
   "id": "bbeb6598-4d0b-4d35-acef-a8ca50b349d4",
   "metadata": {},
   "outputs": [
    {
     "name": "stdout",
     "output_type": "stream",
     "text": [
      "(1001, 8)\n",
      "<class 'pandas.core.frame.DataFrame'>\n",
      "RangeIndex: 1001 entries, 0 to 1000\n",
      "Data columns (total 8 columns):\n",
      " #   Column                   Non-Null Count  Dtype  \n",
      "---  ------                   --------------  -----  \n",
      " 0   Ticket_ID                1001 non-null   object \n",
      " 1   Created_At               1001 non-null   object \n",
      " 2   Channel                  1000 non-null   object \n",
      " 3   Response_Time_Minutes    1000 non-null   float64\n",
      " 4   Resolution_Time_Minutes  1001 non-null   int64  \n",
      " 5   CSAT_Score               1000 non-null   float64\n",
      " 6   Issue_Type               1000 non-null   object \n",
      " 7   Daily_Ticket_Count       1001 non-null   int64  \n",
      "dtypes: float64(2), int64(2), object(4)\n",
      "memory usage: 62.7+ KB\n",
      "None\n",
      "  Ticket_ID  Created_At    Channel  Response_Time_Minutes  \\\n",
      "0     T0001  21-02-2025  LiveAgent                    4.0   \n",
      "1     T0002  15-01-2025  LiveAgent                    7.0   \n",
      "2     T0003  13-03-2025  LiveAgent                    8.0   \n",
      "3     T0004  02-03-2025  LiveAgent                   17.0   \n",
      "4     T0005  21-01-2025    Chatbot                    5.0   \n",
      "\n",
      "   Resolution_Time_Minutes  CSAT_Score         Issue_Type  Daily_Ticket_Count  \n",
      "0                      175         3.0  Ride cancellation                  13  \n",
      "1                       15         4.0          Lost item                  11  \n",
      "2                      162         4.0     Account access                   9  \n",
      "3                      154         2.0          Lost item                  12  \n",
      "4                       70         5.0          Lost item                  11  \n"
     ]
    }
   ],
   "source": [
    "print(df.shape)\n",
    "print(df.info())\n",
    "print(df.head())"
   ]
  },
  {
   "cell_type": "code",
   "execution_count": 4,
   "id": "99629346-90ec-4777-a0c2-e1445eeae089",
   "metadata": {},
   "outputs": [
    {
     "name": "stdout",
     "output_type": "stream",
     "text": [
      "\n",
      "Missing Values:\n",
      " Ticket_ID                  0\n",
      "Created_At                 0\n",
      "Channel                    1\n",
      "Response_Time_Minutes      1\n",
      "Resolution_Time_Minutes    0\n",
      "CSAT_Score                 1\n",
      "Issue_Type                 1\n",
      "Daily_Ticket_Count         0\n",
      "dtype: int64\n"
     ]
    }
   ],
   "source": [
    "print(\"\\nMissing Values:\\n\", df.isnull().sum())"
   ]
  },
  {
   "cell_type": "markdown",
   "id": "95c795d4-999d-4136-8ec7-da2f67dffa5a",
   "metadata": {},
   "source": [
    "#handling missing values:-"
   ]
  },
  {
   "cell_type": "code",
   "execution_count": 5,
   "id": "c7e82d6f-84c4-4775-a7f3-d47fecdd7ba9",
   "metadata": {},
   "outputs": [],
   "source": [
    "df[\"CSAT_Score\"] = df[\"CSAT_Score\"].fillna(df[\"CSAT_Score\"].median())\n",
    "df[\"Issue_Type\"] = df[\"Issue_Type\"].fillna(df[\"Issue_Type\"].mode()[0])\n",
    "df[\"Channel\"] = df[\"Channel\"].fillna(\"Unknown\")\n",
    "df[\"Response_Time_Minutes\"] = df[\"Response_Time_Minutes\"].fillna(df[\"Response_Time_Minutes\"].median())"
   ]
  },
  {
   "cell_type": "code",
   "execution_count": 6,
   "id": "9937fca0-2dd1-493c-9864-96495d6b8e8b",
   "metadata": {},
   "outputs": [
    {
     "name": "stdout",
     "output_type": "stream",
     "text": [
      "\n",
      "Missing Values after cleaning:\n",
      " Ticket_ID                  0\n",
      "Created_At                 0\n",
      "Channel                    0\n",
      "Response_Time_Minutes      0\n",
      "Resolution_Time_Minutes    0\n",
      "CSAT_Score                 0\n",
      "Issue_Type                 0\n",
      "Daily_Ticket_Count         0\n",
      "dtype: int64\n"
     ]
    }
   ],
   "source": [
    "print(\"\\nMissing Values after cleaning:\\n\", df.isnull().sum())"
   ]
  },
  {
   "cell_type": "markdown",
   "id": "8be2372f-9eb3-4012-8b9f-00b28f7b960a",
   "metadata": {},
   "source": [
    "#Standardizing Categorical Columns (Channel, Issue Type):-"
   ]
  },
  {
   "cell_type": "code",
   "execution_count": 7,
   "id": "a87e50b6-8e49-4a39-b564-26e3f54e646e",
   "metadata": {},
   "outputs": [],
   "source": [
    "df[\"Channel\"] = df[\"Channel\"].str.strip().str.lower()   # remove spaces, lowercase\n",
    "df[\"Channel\"] = df[\"Channel\"].replace({\n",
    "    \"chat bot\": \"chatbot\",\n",
    "    \"chatbot\": \"chatbot\",\n",
    "    \"liveagent\": \"live agent\",\n",
    "    \"phone\": \"phone\",\n",
    "    \"unknown\": \"unknown\"\n",
    "})\n",
    "df[\"Channel\"] = df[\"Channel\"].str.title() "
   ]
  },
  {
   "cell_type": "code",
   "execution_count": 8,
   "id": "d110ba3d-b4c2-4496-b67c-1c46ac175033",
   "metadata": {},
   "outputs": [
    {
     "name": "stdout",
     "output_type": "stream",
     "text": [
      "Unique Channels after cleaning: ['Live Agent' 'Chatbot' 'Unknown']\n"
     ]
    }
   ],
   "source": [
    "print(\"Unique Channels after cleaning:\", df[\"Channel\"].unique())"
   ]
  },
  {
   "cell_type": "code",
   "execution_count": 9,
   "id": "ed1fe5ea-8c39-4a9c-a0ce-613242b56c71",
   "metadata": {},
   "outputs": [],
   "source": [
    "df[\"Issue_Type\"] = df[\"Issue_Type\"].str.strip().str.lower()\n",
    "\n",
    "df[\"Issue_Type\"] = df[\"Issue_Type\"].replace({\n",
    "    \"lost item\": \"lost item\",\n",
    "    \"lostitem\": \"lost item\",\n",
    "    \"ride cancellation\": \"ride cancellation\",\n",
    "    \"account access\": \"account access\",\n",
    "    \"payment issue\": \"payment issue\"\n",
    "})\n",
    "df[\"Issue_Type\"] = df[\"Issue_Type\"].str.title() "
   ]
  },
  {
   "cell_type": "code",
   "execution_count": 10,
   "id": "353e3c2b-0e39-41a7-b4c4-be44120b5e56",
   "metadata": {},
   "outputs": [
    {
     "name": "stdout",
     "output_type": "stream",
     "text": [
      "Unique Issue Types after cleaning: ['Ride Cancellation' 'Lost Item' 'Account Access' 'Driver Issue'\n",
      " 'Payment Problem' 'App Crash']\n"
     ]
    }
   ],
   "source": [
    "print(\"Unique Issue Types after cleaning:\", df[\"Issue_Type\"].unique())"
   ]
  },
  {
   "cell_type": "markdown",
   "id": "49cd9a22-4aae-4624-b9a2-a0c2cbcb3b23",
   "metadata": {},
   "source": [
    "#Fixing outliers :-"
   ]
  },
  {
   "cell_type": "code",
   "execution_count": 11,
   "id": "18bcbd7c-ec4a-4e70-b869-096a4bfdd60d",
   "metadata": {},
   "outputs": [
    {
     "name": "stdout",
     "output_type": "stream",
     "text": [
      "\n",
      "--- Response_Time_Minutes ---\n",
      "Number of Outliers: 1\n",
      "   Ticket_ID  Created_At  Channel  Response_Time_Minutes  \\\n",
      "40     T0041  03-01-2025  Chatbot                 9999.0   \n",
      "\n",
      "    Resolution_Time_Minutes  CSAT_Score         Issue_Type  Daily_Ticket_Count  \n",
      "40                       50         5.0  Ride Cancellation                  14  \n",
      "\n",
      "--- Resolution_Time_Minutes ---\n",
      "Number of Outliers: 1\n",
      "   Ticket_ID  Created_At  Channel  Response_Time_Minutes  \\\n",
      "45     T0046  08-02-2025  Chatbot                   21.0   \n",
      "\n",
      "    Resolution_Time_Minutes  CSAT_Score Issue_Type  Daily_Ticket_Count  \n",
      "45                       -5         3.0  Lost Item                  12  \n",
      "\n",
      "--- CSAT_Score ---\n",
      "Number of Outliers: 0\n",
      "\n",
      "--- Daily_Ticket_Count ---\n",
      "Number of Outliers: 0\n"
     ]
    }
   ],
   "source": [
    "outliers = {}\n",
    "\n",
    "# Response Time\n",
    "outliers[\"Response_Time_Minutes\"] = df[(df[\"Response_Time_Minutes\"] < 0) | (df[\"Response_Time_Minutes\"] > 120)]\n",
    "\n",
    "# Resolution Time\n",
    "outliers[\"Resolution_Time_Minutes\"] = df[(df[\"Resolution_Time_Minutes\"] < 0) | (df[\"Resolution_Time_Minutes\"] > 200)]\n",
    "\n",
    "# CSAT Score\n",
    "outliers[\"CSAT_Score\"] = df[(df[\"CSAT_Score\"] < 1) | (df[\"CSAT_Score\"] > 5)]\n",
    "\n",
    "# Daily Ticket Count\n",
    "outliers[\"Daily_Ticket_Count\"] = df[(df[\"Daily_Ticket_Count\"] < 1) | (df[\"Daily_Ticket_Count\"] > 50)]\n",
    "\n",
    "# Print summary\n",
    "for col, data_out in outliers.items():\n",
    "    print(f\"\\n--- {col} ---\")\n",
    "    print(f\"Number of Outliers: {len(data_out)}\")\n",
    "    if not data_out.empty:\n",
    "        print(data_out.head())\n"
   ]
  },
  {
   "cell_type": "code",
   "execution_count": 28,
   "id": "e9d300d1-2e7c-4321-b54a-c8079aef7ee0",
   "metadata": {},
   "outputs": [],
   "source": [
    "# Cap resolution times at 200 mins\n",
    "df.loc[df[\"Resolution_Time_Minutes\"] < 0, \"Resolution_Time_Minutes\"] = 0\n",
    "df.loc[df[\"Resolution_Time_Minutes\"] > 200, \"Resolution_Time_Minutes\"] = 200\n",
    "#fix response time\n",
    "df.loc[df[\"Response_Time_Minutes\"] < 0, \"Response_Time_Minutes\"] = 0\n",
    "df.loc[df[\"Response_Time_Minutes\"] > 120, \"Response_Time_Minutes\"] = 120"
   ]
  },
  {
   "cell_type": "markdown",
   "id": "2bac25c8-f0bb-4eaa-9d8e-e08be5495f55",
   "metadata": {},
   "source": [
    "#Converting Dates:- "
   ]
  },
  {
   "cell_type": "code",
   "execution_count": 29,
   "id": "2724011d-6d7d-47c7-8707-44a6f460e0b9",
   "metadata": {},
   "outputs": [],
   "source": [
    "df[\"Created_At\"] = pd.to_datetime(df[\"Created_At\"], format=\"%d-%m-%Y\", errors=\"coerce\")"
   ]
  },
  {
   "cell_type": "markdown",
   "id": "2e994ee9-6220-465f-8c57-f1530b9a1e12",
   "metadata": {},
   "source": [
    "#removing duplicates"
   ]
  },
  {
   "cell_type": "code",
   "execution_count": 30,
   "id": "c0aff51f-ce7c-4c81-bc8c-3c4ac2a78075",
   "metadata": {},
   "outputs": [],
   "source": [
    "df = df.drop_duplicates(subset=[\"Ticket_ID\"], keep=\"first\")"
   ]
  },
  {
   "cell_type": "markdown",
   "id": "e230526f-6c3f-46dd-9d5c-6f0832da5839",
   "metadata": {},
   "source": [
    "#Handling Numeric Values"
   ]
  },
  {
   "cell_type": "code",
   "execution_count": 31,
   "id": "0a00dd32-ca20-4dd0-88ab-ff727267f12d",
   "metadata": {},
   "outputs": [],
   "source": [
    "df[\"Response_Time_Minutes\"] = pd.to_numeric(df[\"Response_Time_Minutes\"], errors=\"coerce\")\n"
   ]
  },
  {
   "cell_type": "code",
   "execution_count": 32,
   "id": "2a871e22-c16d-455f-9e0d-5677924ed45a",
   "metadata": {},
   "outputs": [],
   "source": [
    "df[\"Response_Time_Minutes\"] = df[\"Response_Time_Minutes\"].fillna(df[\"Response_Time_Minutes\"].median())\n"
   ]
  },
  {
   "cell_type": "markdown",
   "id": "8d211a42-d172-4e44-94f5-04671c9dd3d0",
   "metadata": {},
   "source": [
    "#Summary Of Distribution"
   ]
  },
  {
   "cell_type": "code",
   "execution_count": 33,
   "id": "362fe8c3-7864-4be6-81a9-886e58f9afbb",
   "metadata": {},
   "outputs": [
    {
     "name": "stdout",
     "output_type": "stream",
     "text": [
      "\n",
      "Summary Statistics:\n",
      "Average CSAT Score: 3.686\n",
      "Average Resolution Time: 96.099\n",
      "Average Daily Ticket Count: 12.212\n",
      "\n",
      "Data Cleaning & Exploration Completed.\n"
     ]
    }
   ],
   "source": [
    "print(\"\\nSummary Statistics:\")\n",
    "print(\"Average CSAT Score:\", df[\"CSAT_Score\"].mean())\n",
    "print(\"Average Resolution Time:\", df[\"Resolution_Time_Minutes\"].mean())\n",
    "print(\"Average Daily Ticket Count:\", df[\"Daily_Ticket_Count\"].mean())\n",
    "\n",
    "print(\"\\nData Cleaning & Exploration Completed.\")"
   ]
  },
  {
   "cell_type": "code",
   "execution_count": 34,
   "id": "d31dbefc-1eb9-4e5a-a436-bfec3fb72bee",
   "metadata": {},
   "outputs": [],
   "source": [
    "df.to_csv(\"Uber_Customer_Support_Tickets_Cleaned.csv\", index=False)"
   ]
  },
  {
   "cell_type": "code",
   "execution_count": null,
   "id": "0385c631-5ef3-40e6-b70b-6aa4a3e3c88a",
   "metadata": {},
   "outputs": [],
   "source": []
  }
 ],
 "metadata": {
  "kernelspec": {
   "display_name": "Python [conda env:base] *",
   "language": "python",
   "name": "conda-base-py"
  },
  "language_info": {
   "codemirror_mode": {
    "name": "ipython",
    "version": 3
   },
   "file_extension": ".py",
   "mimetype": "text/x-python",
   "name": "python",
   "nbconvert_exporter": "python",
   "pygments_lexer": "ipython3",
   "version": "3.13.5"
  }
 },
 "nbformat": 4,
 "nbformat_minor": 5
}
