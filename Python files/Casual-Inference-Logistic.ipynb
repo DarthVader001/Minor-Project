{
 "cells": [
  {
   "cell_type": "markdown",
   "id": "d6dbc353-cc89-4229-9094-1dd084ccd47a",
   "metadata": {},
   "source": [
    "##CASUAL INFERENCE##"
   ]
  },
  {
   "cell_type": "code",
   "execution_count": 3,
   "id": "62cbafbe-51f4-411c-9746-845eede9f3e8",
   "metadata": {},
   "outputs": [],
   "source": [
    "import pandas as pd\n",
    "import statsmodels.formula.api as smf"
   ]
  },
  {
   "cell_type": "code",
   "execution_count": 9,
   "id": "257b8d2b-08f7-47fe-b0ff-3a2401a823ff",
   "metadata": {},
   "outputs": [],
   "source": [
    "df = pd.read_csv(\"Uber_Customer_Support_Tickets_Prepared.csv\")"
   ]
  },
  {
   "cell_type": "code",
   "execution_count": 11,
   "id": "82765163-352e-495b-bf17-4555460b8014",
   "metadata": {},
   "outputs": [],
   "source": [
    "df[\"Created_At\"] = pd.to_datetime(df[\"Created_At\"], errors=\"coerce\")"
   ]
  },
  {
   "cell_type": "code",
   "execution_count": 12,
   "id": "86ef458b-c62e-4687-86d9-3a30b6171c0c",
   "metadata": {},
   "outputs": [],
   "source": [
    "# Model using Logistic Regression\n",
    "model = smf.logit(\n",
    "    \"CSAT_Binary ~ C(Channel) + Resolution_Time_Minutes + Response_Time_Minutes + C(Issue_Type)\",\n",
    "    data=df\n",
    ")"
   ]
  },
  {
   "cell_type": "code",
   "execution_count": 13,
   "id": "9ddedb6e-ab4b-4226-8d34-b8f43f31f3dd",
   "metadata": {},
   "outputs": [
    {
     "name": "stdout",
     "output_type": "stream",
     "text": [
      "Optimization terminated successfully.\n",
      "         Current function value: 0.648484\n",
      "         Iterations 21\n"
     ]
    }
   ],
   "source": [
    "#model fitting\n",
    "result = model.fit()"
   ]
  },
  {
   "cell_type": "code",
   "execution_count": 14,
   "id": "af25e2eb-68f4-4d6c-ad30-005728b5ca57",
   "metadata": {},
   "outputs": [
    {
     "name": "stdout",
     "output_type": "stream",
     "text": [
      "                           Logit Regression Results                           \n",
      "==============================================================================\n",
      "Dep. Variable:            CSAT_Binary   No. Observations:                  999\n",
      "Model:                          Logit   Df Residuals:                      989\n",
      "Method:                           MLE   Df Model:                            9\n",
      "Date:                Sun, 21 Sep 2025   Pseudo R-squ.:                0.007865\n",
      "Time:                        20:51:10   Log-Likelihood:                -647.84\n",
      "converged:                       True   LL-Null:                       -652.97\n",
      "Covariance Type:            nonrobust   LLR p-value:                    0.3290\n",
      "======================================================================================================\n",
      "                                         coef    std err          z      P>|z|      [0.025      0.975]\n",
      "------------------------------------------------------------------------------------------------------\n",
      "Intercept                              0.6905      0.246      2.808      0.005       0.209       1.172\n",
      "C(Channel)[T.Live Agent]               0.0865      0.136      0.636      0.525      -0.180       0.353\n",
      "C(Channel)[T.Unknown]                -44.6703   3.92e+09  -1.14e-08      1.000   -7.68e+09    7.68e+09\n",
      "C(Issue_Type)[T.App Crash]            -0.0585      0.229     -0.256      0.798      -0.507       0.390\n",
      "C(Issue_Type)[T.Driver Issue]         -0.0501      0.230     -0.217      0.828      -0.502       0.402\n",
      "C(Issue_Type)[T.Lost Item]             0.1798      0.226      0.794      0.427      -0.264       0.624\n",
      "C(Issue_Type)[T.Payment Problem]       0.2692      0.227      1.184      0.237      -0.177       0.715\n",
      "C(Issue_Type)[T.Ride Cancellation]     0.1808      0.231      0.782      0.434      -0.272       0.634\n",
      "Resolution_Time_Minutes               -0.0025      0.001     -1.854      0.064      -0.005       0.000\n",
      "Response_Time_Minutes                  0.0003      0.007      0.046      0.963      -0.014       0.015\n",
      "======================================================================================================\n"
     ]
    }
   ],
   "source": [
    "print(result.summary())"
   ]
  },
  {
   "cell_type": "code",
   "execution_count": null,
   "id": "fba55bc7-cd4c-4a78-9560-64bc0fa09c5d",
   "metadata": {},
   "outputs": [],
   "source": []
  }
 ],
 "metadata": {
  "kernelspec": {
   "display_name": "Python [conda env:base] *",
   "language": "python",
   "name": "conda-base-py"
  },
  "language_info": {
   "codemirror_mode": {
    "name": "ipython",
    "version": 3
   },
   "file_extension": ".py",
   "mimetype": "text/x-python",
   "name": "python",
   "nbconvert_exporter": "python",
   "pygments_lexer": "ipython3",
   "version": "3.13.5"
  }
 },
 "nbformat": 4,
 "nbformat_minor": 5
}
